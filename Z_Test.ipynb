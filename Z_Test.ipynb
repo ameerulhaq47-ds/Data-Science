{
  "nbformat": 4,
  "nbformat_minor": 0,
  "metadata": {
    "colab": {
      "provenance": [],
      "authorship_tag": "ABX9TyPhFHyrzpUHROxUC/wUt0DU"
    },
    "kernelspec": {
      "name": "python3",
      "display_name": "Python 3"
    },
    "language_info": {
      "name": "python"
    }
  },
  "cells": [
    {
      "cell_type": "markdown",
      "source": [
        "# **Z-TEST**"
      ],
      "metadata": {
        "id": "gIE0b4Iaj0SH"
      }
    },
    {
      "cell_type": "code",
      "execution_count": 6,
      "metadata": {
        "id": "EbFZYEJRi-bT"
      },
      "outputs": [],
      "source": [
        "import numpy as np\n",
        "import scipy.stats as st\n"
      ]
    },
    {
      "cell_type": "code",
      "source": [
        "st.norm.ppf(0.9)"
      ],
      "metadata": {
        "colab": {
          "base_uri": "https://localhost:8080/"
        },
        "id": "sU7NM7tkjIU9",
        "outputId": "b0ce7fff-a218-458b-a3ea-b3dc8b8bc7fa"
      },
      "execution_count": 5,
      "outputs": [
        {
          "output_type": "execute_result",
          "data": {
            "text/plain": [
              "np.float64(1.2815515655446004)"
            ]
          },
          "metadata": {},
          "execution_count": 5
        }
      ]
    },
    {
      "cell_type": "code",
      "source": [
        "#A teacher claims that the mean score of students in his class is greater than 82 with a standard deviation of 20. If a sample of 81 students was selected with a mean score of 90"
      ],
      "metadata": {
        "id": "TI45Xlx0jIY4"
      },
      "execution_count": null,
      "outputs": []
    },
    {
      "cell_type": "code",
      "source": [
        "sam_x=90\n",
        "pop_u=82\n",
        "std_dev=20\n",
        "n=81\n",
        "alp=0.05\n"
      ],
      "metadata": {
        "id": "T5A-Rf6ujIbr"
      },
      "execution_count": 8,
      "outputs": []
    },
    {
      "cell_type": "code",
      "source": [
        "z_cal=(sam_x-pop_u)/(std_dev/np.sqrt(n))"
      ],
      "metadata": {
        "id": "9VRj06KrjIfN"
      },
      "execution_count": 9,
      "outputs": []
    },
    {
      "cell_type": "code",
      "source": [
        "z_cal"
      ],
      "metadata": {
        "colab": {
          "base_uri": "https://localhost:8080/"
        },
        "id": "eV8OMTullkzb",
        "outputId": "e7db908a-bfd1-4650-9fcf-459360b77095"
      },
      "execution_count": 10,
      "outputs": [
        {
          "output_type": "execute_result",
          "data": {
            "text/plain": [
              "np.float64(3.5999999999999996)"
            ]
          },
          "metadata": {},
          "execution_count": 10
        }
      ]
    },
    {
      "cell_type": "code",
      "source": [
        "z_table=st.norm.ppf(1-alp)\n",
        "z_table"
      ],
      "metadata": {
        "colab": {
          "base_uri": "https://localhost:8080/"
        },
        "id": "trQXHA4Dlqd3",
        "outputId": "013f2314-f0a0-4032-886b-9c2ad2b48a0a"
      },
      "execution_count": 11,
      "outputs": [
        {
          "output_type": "execute_result",
          "data": {
            "text/plain": [
              "np.float64(1.6448536269514722)"
            ]
          },
          "metadata": {},
          "execution_count": 11
        }
      ]
    },
    {
      "cell_type": "code",
      "source": [
        "if z_table<z_cal:\n",
        "  print(\"Ha is right\")\n",
        "else:\n",
        "  print(\"H0 is rigth\")\n"
      ],
      "metadata": {
        "colab": {
          "base_uri": "https://localhost:8080/"
        },
        "id": "U0-8Gk0sl3Ln",
        "outputId": "bad2fb0e-f400-4e79-87ed-de4a479ff6ea"
      },
      "execution_count": 12,
      "outputs": [
        {
          "output_type": "stream",
          "name": "stdout",
          "text": [
            "Ha is right\n"
          ]
        }
      ]
    },
    {
      "cell_type": "code",
      "source": [],
      "metadata": {
        "id": "vEx18fKjmMCm"
      },
      "execution_count": null,
      "outputs": []
    }
  ]
}