{
  "nbformat": 4,
  "nbformat_minor": 0,
  "metadata": {
    "colab": {
      "provenance": [],
      "authorship_tag": "ABX9TyNtNsFhem8uLuGfvErsmmIN"
    },
    "kernelspec": {
      "name": "python3",
      "display_name": "Python 3"
    },
    "language_info": {
      "name": "python"
    }
  },
  "cells": [
    {
      "cell_type": "markdown",
      "source": [
        "# **T-TEST**"
      ],
      "metadata": {
        "id": "BSjowdOk1_b9"
      }
    },
    {
      "cell_type": "code",
      "source": [
        "import scipy.stats as st\n",
        "import numpy as np\n"
      ],
      "metadata": {
        "id": "D5mll-ZL1_C_"
      },
      "execution_count": 5,
      "outputs": []
    },
    {
      "cell_type": "code",
      "execution_count": null,
      "metadata": {
        "id": "hGGb63vx12SP"
      },
      "outputs": [],
      "source": [
        "#A company wants to test whether there is a difference in productivity between two teams. They randomly select 20 employees from each team and record their productivity scores. The mean productivity score for Team A is 80 with a standard deviation of 5, while the mean productivity score for Team B is 75 with a standard deviation of 6. Test at a 5% level of significance whether there is a difference in productivity between the two teams."
      ]
    },
    {
      "cell_type": "code",
      "source": [
        "# Given data\n",
        "mean_A, std_A, n_A = 80, 5, 20\n",
        "mean_B, std_B, n_B = 75, 6, 20"
      ],
      "metadata": {
        "id": "4lABDfCl2Z_d"
      },
      "execution_count": 2,
      "outputs": []
    },
    {
      "cell_type": "code",
      "source": [
        "t_stat, p_value = st.ttest_ind_from_stats(mean_A, std_A, n_A, mean_B, std_B, n_B, equal_var=False)"
      ],
      "metadata": {
        "id": "veN9q7OX2aCZ"
      },
      "execution_count": 6,
      "outputs": []
    },
    {
      "cell_type": "code",
      "source": [
        "alpha = 0.05\n",
        "\n",
        "# Output results\n",
        "print(f\"T-Statistic: {t_stat:.4f}\")\n",
        "print(f\"P-value: {p_value:.4f}\")"
      ],
      "metadata": {
        "colab": {
          "base_uri": "https://localhost:8080/"
        },
        "id": "WRUYMEpE2aFz",
        "outputId": "7598821d-7b64-4108-c7e7-54527665dc9d"
      },
      "execution_count": 8,
      "outputs": [
        {
          "output_type": "stream",
          "name": "stdout",
          "text": [
            "T-Statistic: 2.8630\n",
            "P-value: 0.0069\n"
          ]
        }
      ]
    },
    {
      "cell_type": "code",
      "source": [
        "if p_value < alpha:\n",
        "    print(\"Reject the null hypothesis: There is a significant difference in productivity between the two teams.\")\n",
        "else:\n",
        "    print(\"Fail to reject the null hypothesis: There is no significant difference in productivity between the two teams.\")"
      ],
      "metadata": {
        "colab": {
          "base_uri": "https://localhost:8080/"
        },
        "id": "MI3bxEUB2aNS",
        "outputId": "b4f37e18-1d2b-4f6b-c969-dad78860be9b"
      },
      "execution_count": 9,
      "outputs": [
        {
          "output_type": "stream",
          "name": "stdout",
          "text": [
            "Reject the null hypothesis: There is a significant difference in productivity between the two teams.\n"
          ]
        }
      ]
    },
    {
      "cell_type": "code",
      "source": [],
      "metadata": {
        "id": "ZnbDF8UQ2xpE"
      },
      "execution_count": null,
      "outputs": []
    }
  ]
}