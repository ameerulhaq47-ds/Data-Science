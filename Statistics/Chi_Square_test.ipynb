{
  "nbformat": 4,
  "nbformat_minor": 0,
  "metadata": {
    "colab": {
      "provenance": [],
      "authorship_tag": "ABX9TyMx2948+Dp25iAKRIbaIzRK"
    },
    "kernelspec": {
      "name": "python3",
      "display_name": "Python 3"
    },
    "language_info": {
      "name": "python"
    }
  },
  "cells": [
    {
      "cell_type": "markdown",
      "source": [
        "# **CHI-SQUARE_TEST**"
      ],
      "metadata": {
        "id": "OmOuH3g3wsYS"
      }
    },
    {
      "cell_type": "code",
      "execution_count": 4,
      "metadata": {
        "id": "kaDxkww1vqda"
      },
      "outputs": [],
      "source": [
        "import scipy.stats as st"
      ]
    },
    {
      "cell_type": "code",
      "source": [
        "#A fair die is rolled 120 times and the following results are obtained:\n",
        "#Face 1: 22 times\n",
        "#Face 2: 17 times\n",
        "#Face 3: 20 times\n",
        "#Face 4: 26 times\n",
        "#Face 5: 22 times\n",
        "#Face 6: 13 times\n",
        "#Test at a 5% level of significance whether the die is fair."
      ],
      "metadata": {
        "id": "pNUn-PbkwpEk"
      },
      "execution_count": 3,
      "outputs": []
    },
    {
      "cell_type": "code",
      "source": [
        "# Observed frequencies (from the experiment)\n",
        "observed = [22, 17, 20, 26, 22, 13]\n",
        "\n",
        "# Expected frequencies (if the die were fair, each face should appear 120/6 = 20 times)\n",
        "expected = [20] * 6\n"
      ],
      "metadata": {
        "id": "Vm1aluyQwxCY"
      },
      "execution_count": 5,
      "outputs": []
    },
    {
      "cell_type": "code",
      "source": [
        "# Perform the chi-square goodness-of-fit test\n",
        "chi2_stat, p_value = st.chisquare(observed, expected)\n",
        "\n",
        "# Significance level\n",
        "alpha = 0.05"
      ],
      "metadata": {
        "id": "p3h4TQWm1XZc"
      },
      "execution_count": 7,
      "outputs": []
    },
    {
      "cell_type": "code",
      "source": [
        "# Output results\n",
        "print(f\"Chi-Square Statistic: {chi2_stat:.4f}\")\n",
        "print(f\"P-value: {p_value:.4f}\")"
      ],
      "metadata": {
        "colab": {
          "base_uri": "https://localhost:8080/"
        },
        "id": "TrDvlUQ41ZuG",
        "outputId": "59444840-7094-44f2-a602-39ae109abef3"
      },
      "execution_count": 8,
      "outputs": [
        {
          "output_type": "stream",
          "name": "stdout",
          "text": [
            "Chi-Square Statistic: 5.1000\n",
            "P-value: 0.4038\n"
          ]
        }
      ]
    },
    {
      "cell_type": "code",
      "source": [
        "if p_value < alpha:\n",
        "    print(\"Reject the null hypothesis: The die is not fair.\")\n",
        "else:\n",
        "    print(\"Fail to reject the null hypothesis: The die is fair.\")"
      ],
      "metadata": {
        "colab": {
          "base_uri": "https://localhost:8080/"
        },
        "id": "nMU5KVQu1hh9",
        "outputId": "e915ef27-9165-49b9-8882-294801358ec3"
      },
      "execution_count": 9,
      "outputs": [
        {
          "output_type": "stream",
          "name": "stdout",
          "text": [
            "Fail to reject the null hypothesis: The die is fair.\n"
          ]
        }
      ]
    },
    {
      "cell_type": "code",
      "source": [],
      "metadata": {
        "id": "Y1L8Gua91m9i"
      },
      "execution_count": null,
      "outputs": []
    }
  ]
}